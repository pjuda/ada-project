{
 "cells": [
  {
   "cell_type": "markdown",
   "metadata": {},
   "source": [
    "If you work locally, it might be a good idea to create symbolic link to your data directory:\n",
    "\n",
    "```ln -s /your/data/directory data```\n",
    "\n",
    "This will create a link named data in the current dir and you can use the data as it was in the directory `data`"
   ]
  },
  {
   "cell_type": "code",
   "execution_count": 24,
   "metadata": {},
   "outputs": [],
   "source": [
    "from pyspark.sql import SparkSession, SQLContext\n",
    "from pyspark.sql.types import StructType, StructField, IntegerType, StringType\n",
    "import pandas as pd"
   ]
  },
  {
   "cell_type": "code",
   "execution_count": 25,
   "metadata": {},
   "outputs": [],
   "source": [
    "spark = SparkSession.builder.getOrCreate()\n",
    "sc = spark.sparkContext\n",
    "sql_context = SQLContext(sc)"
   ]
  },
  {
   "cell_type": "code",
   "execution_count": 26,
   "metadata": {},
   "outputs": [],
   "source": [
    "DATA_DIR = './data/'"
   ]
  },
  {
   "cell_type": "markdown",
   "metadata": {},
   "source": [
    "`index.txt` describes format of the data. It is tab delimited, each row is a separate review entry.\n",
    "We define the schema of the data to facilitate reading.\n",
    "\n",
    "__TODO__ convert date to a suitable format\n",
    "\n",
    "__TODO__ convert vine and verified purchase to bool Type\n",
    "\n",
    "__TODO__ category can be categorical value?"
   ]
  },
  {
   "cell_type": "code",
   "execution_count": 71,
   "metadata": {},
   "outputs": [],
   "source": [
    "def read_tsv_to_pyspark_DF(filename):\n",
    "    schema = StructType([\n",
    "        StructField('marketplace', StringType(), True), #2 letter country code\n",
    "        StructField('customer_id', StringType(), True), #author identifier\n",
    "        StructField('review_id', StringType(), True), #unique review ID\n",
    "        StructField('product_id', StringType(), True), # unique product ID\n",
    "        StructField('product_parent', StringType(), True), # product identifier to be used to aggregate reviews for a product\n",
    "        StructField('product_title', StringType(), True),\n",
    "        StructField('product_category', StringType(), True),\n",
    "        StructField('star_rating', IntegerType(), True), # 1-5 star rating \n",
    "        StructField('helpful_votes', IntegerType(), True), # positive votes for the review\n",
    "        StructField('total_votes', IntegerType(), True), # total votes for the review\n",
    "        StructField('vine', StringType(), True), # review is part of Vine Program\n",
    "        StructField('verfied_purchase', StringType(), True), # Review is on Verified Purchase\n",
    "        StructField('review_headline', StringType(), True), # title of the review\n",
    "        StructField('review_body', StringType(), True), # text\n",
    "        StructField('review_date', StringType(), True)]) # date of review \n",
    "\n",
    "    return sql_context.read.option('sep', '\\t').csv(filename, schema=schema, header=True)"
   ]
  },
  {
   "cell_type": "code",
   "execution_count": 72,
   "metadata": {},
   "outputs": [
    {
     "name": "stdout",
     "output_type": "stream",
     "text": [
      "root\n",
      " |-- marketplace: string (nullable = true)\n",
      " |-- customer_id: string (nullable = true)\n",
      " |-- review_id: string (nullable = true)\n",
      " |-- product_id: string (nullable = true)\n",
      " |-- product_parent: string (nullable = true)\n",
      " |-- product_title: string (nullable = true)\n",
      " |-- product_category: string (nullable = true)\n",
      " |-- star_rating: integer (nullable = true)\n",
      " |-- helpful_votes: integer (nullable = true)\n",
      " |-- total_votes: integer (nullable = true)\n",
      " |-- vine: string (nullable = true)\n",
      " |-- verfied_purchase: string (nullable = true)\n",
      " |-- review_headline: string (nullable = true)\n",
      " |-- review_body: string (nullable = true)\n",
      " |-- review_date: string (nullable = true)\n",
      "\n"
     ]
    }
   ],
   "source": [
    "sample_df = read_tsv_to_pyspark_DF('sample_us.tsv')\n",
    "sample_df.printSchema()"
   ]
  },
  {
   "cell_type": "code",
   "execution_count": 52,
   "metadata": {},
   "outputs": [],
   "source": [
    "df_books = read_tsv_to_pyspark_DF(DATA_DIR+'amazon_reviews_us_Books_v1_00.tsv.gz')"
   ]
  },
  {
   "cell_type": "code",
   "execution_count": 78,
   "metadata": {},
   "outputs": [
    {
     "data": {
      "text/plain": [
       "10319091"
      ]
     },
     "execution_count": 78,
     "metadata": {},
     "output_type": "execute_result"
    }
   ],
   "source": [
    "df_books.count()"
   ]
  },
  {
   "cell_type": "code",
   "execution_count": 83,
   "metadata": {},
   "outputs": [
    {
     "data": {
      "text/plain": [
       "10318984"
      ]
     },
     "execution_count": 83,
     "metadata": {},
     "output_type": "execute_result"
    }
   ],
   "source": [
    "df_books.filter(\"product_category == 'Books'\").count()"
   ]
  },
  {
   "cell_type": "code",
   "execution_count": 80,
   "metadata": {},
   "outputs": [
    {
     "name": "stdout",
     "output_type": "stream",
     "text": [
      "+-----------+\n",
      "|marketplace|\n",
      "+-----------+\n",
      "|         US|\n",
      "+-----------+\n",
      "\n"
     ]
    }
   ],
   "source": [
    "sample_df.select('marketplace').distinct().show()"
   ]
  }
 ],
 "metadata": {
  "kernelspec": {
   "display_name": "Python [conda env:ada]",
   "language": "python",
   "name": "conda-env-ada-py"
  },
  "language_info": {
   "codemirror_mode": {
    "name": "ipython",
    "version": 3
   },
   "file_extension": ".py",
   "mimetype": "text/x-python",
   "name": "python",
   "nbconvert_exporter": "python",
   "pygments_lexer": "ipython3",
   "version": "3.6.6"
  }
 },
 "nbformat": 4,
 "nbformat_minor": 2
}
