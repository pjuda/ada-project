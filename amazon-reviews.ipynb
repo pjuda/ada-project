{
 "cells": [
  {
   "cell_type": "markdown",
   "metadata": {},
   "source": [
    "If you work locally, it might be a good idea to create symbolic link to your data directory:\n",
    "\n",
    "```ln -s /your/data/directory data```\n",
    "\n",
    "This will create a link named data in the current dir and you can use the data as it was in the directory `data`"
   ]
  },
  {
   "cell_type": "code",
   "execution_count": 1,
   "metadata": {},
   "outputs": [],
   "source": [
    "from pyspark.sql import SparkSession, SQLContext\n",
    "from pyspark.sql.types import StructType, StructField, IntegerType, StringType, DateType\n",
    "import pandas as pd"
   ]
  },
  {
   "cell_type": "code",
   "execution_count": 2,
   "metadata": {},
   "outputs": [],
   "source": [
    "spark = SparkSession.builder.getOrCreate()\n",
    "sc = spark.sparkContext\n",
    "sql_context = SQLContext(sc)"
   ]
  },
  {
   "cell_type": "code",
   "execution_count": 3,
   "metadata": {},
   "outputs": [],
   "source": [
    "DATA_DIR = './data/'"
   ]
  },
  {
   "cell_type": "markdown",
   "metadata": {},
   "source": [
    "`index.txt` describes format of the data. It is tab delimited, each row is a separate review entry.\n",
    "We define the schema of the data to facilitate reading.\n",
    "\n",
    "__TODO__ convert date to a suitable format\n",
    "\n",
    "__TODO__ convert vine and verified purchase to bool Type\n",
    "\n",
    "__TODO__ category can be categorical value?"
   ]
  },
  {
   "cell_type": "code",
   "execution_count": 12,
   "metadata": {},
   "outputs": [],
   "source": [
    "def read_tsv_to_pyspark_DF(filename):\n",
    "    schema = StructType([\n",
    "        StructField('marketplace', StringType(), True), #2 letter country code\n",
    "        StructField('customer_id', IntegerType(), True), #author identifier\n",
    "        StructField('review_id', StringType(), True), #unique review ID\n",
    "        StructField('product_id', StringType(), True), # unique product ID\n",
    "        StructField('product_parent', IntegerType(), True), # product identifier to be used to aggregate reviews for a product\n",
    "        StructField('product_title', StringType(), True),\n",
    "        StructField('product_category', StringType(), True),\n",
    "        StructField('star_rating', IntegerType(), True), # 1-5 star rating \n",
    "        StructField('helpful_votes', IntegerType(), True), # positive votes for the review\n",
    "        StructField('total_votes', IntegerType(), True), # total votes for the review\n",
    "        StructField('vine', StringType(), True), # review is part of Vine Program\n",
    "        StructField('verfied_purchase', StringType(), True), # Review is on Verified Purchase\n",
    "        StructField('review_headline', StringType(), True), # title of the review\n",
    "        StructField('review_body', StringType(), True), # text\n",
    "        StructField('review_date', DateType(), True)]) # date of review \n",
    "\n",
    "    return sql_context.read.option('sep', '\\t').csv(filename, schema=schema, header=True)"
   ]
  },
  {
   "cell_type": "code",
   "execution_count": 13,
   "metadata": {},
   "outputs": [],
   "source": [
    "import numpy as np\n",
    "def read_tsv_top_pandas(filename):\n",
    "    columns = ['marketplace', 'customer_id', 'review_id', 'product_id', 'product_parent', 'product_title',\n",
    "          'product_category', 'star_rating', 'helpful_votes', 'total_votes', 'review_headline']\n",
    "    dtypes = {'star_rating': np.uint8 }\n",
    "    df = pd.read_csv(filename, delimiter='\\t', error_bad_lines=False, usecols=columns)\n",
    "    df['star_rating'] = pd.to_numeric(df['star_rating'],errors='coerce')  # 'coerce' results in NaN for entries that can't be converted\n",
    "    df['helpful_votes'] = pd.to_numeric(df['star_rating'],errors='coerce')\n",
    "    df['total_votes'] = pd.to_numeric(df['star_rating'],errors='coerce')\n",
    "\n",
    "    return df.dropna()\n",
    "\n",
    "def read_tsv_reviews_to_pandas(filename):\n",
    "    return pd.read_csv(filename, delimiter='\\t', error_bad_lines=False, usecols=['review_body'] )"
   ]
  },
  {
   "cell_type": "code",
   "execution_count": 14,
   "metadata": {},
   "outputs": [
    {
     "name": "stdout",
     "output_type": "stream",
     "text": [
      "root\n",
      " |-- marketplace: string (nullable = true)\n",
      " |-- customer_id: integer (nullable = true)\n",
      " |-- review_id: string (nullable = true)\n",
      " |-- product_id: string (nullable = true)\n",
      " |-- product_parent: integer (nullable = true)\n",
      " |-- product_title: string (nullable = true)\n",
      " |-- product_category: string (nullable = true)\n",
      " |-- star_rating: integer (nullable = true)\n",
      " |-- helpful_votes: integer (nullable = true)\n",
      " |-- total_votes: integer (nullable = true)\n",
      " |-- vine: string (nullable = true)\n",
      " |-- verfied_purchase: string (nullable = true)\n",
      " |-- review_headline: string (nullable = true)\n",
      " |-- review_body: string (nullable = true)\n",
      " |-- review_date: date (nullable = true)\n",
      "\n"
     ]
    }
   ],
   "source": [
    "sample_df = read_tsv_to_pyspark_DF('sample_us.tsv')\n",
    "sample_df.printSchema()"
   ]
  },
  {
   "cell_type": "code",
   "execution_count": 15,
   "metadata": {},
   "outputs": [
    {
     "data": {
      "text/html": [
       "<div>\n",
       "<style scoped>\n",
       "    .dataframe tbody tr th:only-of-type {\n",
       "        vertical-align: middle;\n",
       "    }\n",
       "\n",
       "    .dataframe tbody tr th {\n",
       "        vertical-align: top;\n",
       "    }\n",
       "\n",
       "    .dataframe thead th {\n",
       "        text-align: right;\n",
       "    }\n",
       "</style>\n",
       "<table border=\"1\" class=\"dataframe\">\n",
       "  <thead>\n",
       "    <tr style=\"text-align: right;\">\n",
       "      <th></th>\n",
       "      <th>marketplace</th>\n",
       "      <th>customer_id</th>\n",
       "      <th>review_id</th>\n",
       "      <th>product_id</th>\n",
       "      <th>product_parent</th>\n",
       "      <th>product_title</th>\n",
       "      <th>product_category</th>\n",
       "      <th>star_rating</th>\n",
       "      <th>helpful_votes</th>\n",
       "      <th>total_votes</th>\n",
       "      <th>review_headline</th>\n",
       "    </tr>\n",
       "  </thead>\n",
       "  <tbody>\n",
       "    <tr>\n",
       "      <th>0</th>\n",
       "      <td>US</td>\n",
       "      <td>18778586</td>\n",
       "      <td>RDIJS7QYB6XNR</td>\n",
       "      <td>B00EDBY7X8</td>\n",
       "      <td>122952789</td>\n",
       "      <td>Monopoly Junior Board Game</td>\n",
       "      <td>Toys</td>\n",
       "      <td>5</td>\n",
       "      <td>5</td>\n",
       "      <td>5</td>\n",
       "      <td>Five Stars</td>\n",
       "    </tr>\n",
       "    <tr>\n",
       "      <th>1</th>\n",
       "      <td>US</td>\n",
       "      <td>24769659</td>\n",
       "      <td>R36ED1U38IELG8</td>\n",
       "      <td>B00D7JFOPC</td>\n",
       "      <td>952062646</td>\n",
       "      <td>56 Pieces of Wooden Train Track Compatible wit...</td>\n",
       "      <td>Toys</td>\n",
       "      <td>5</td>\n",
       "      <td>5</td>\n",
       "      <td>5</td>\n",
       "      <td>Good quality track at excellent price</td>\n",
       "    </tr>\n",
       "    <tr>\n",
       "      <th>2</th>\n",
       "      <td>US</td>\n",
       "      <td>44331596</td>\n",
       "      <td>R1UE3RPRGCOLD</td>\n",
       "      <td>B002LHA74O</td>\n",
       "      <td>818126353</td>\n",
       "      <td>Super Jumbo Playing Cards by S&amp;S Worldwide</td>\n",
       "      <td>Toys</td>\n",
       "      <td>2</td>\n",
       "      <td>2</td>\n",
       "      <td>2</td>\n",
       "      <td>Two Stars</td>\n",
       "    </tr>\n",
       "    <tr>\n",
       "      <th>3</th>\n",
       "      <td>US</td>\n",
       "      <td>23310293</td>\n",
       "      <td>R298788GS6I901</td>\n",
       "      <td>B00ARPLCGY</td>\n",
       "      <td>261944918</td>\n",
       "      <td>Barbie Doll and Fashions Barbie Gift Set</td>\n",
       "      <td>Toys</td>\n",
       "      <td>5</td>\n",
       "      <td>5</td>\n",
       "      <td>5</td>\n",
       "      <td>my daughter loved it and i liked the price and...</td>\n",
       "    </tr>\n",
       "    <tr>\n",
       "      <th>4</th>\n",
       "      <td>US</td>\n",
       "      <td>38745832</td>\n",
       "      <td>RNX4EXOBBPN5</td>\n",
       "      <td>B00UZOPOFW</td>\n",
       "      <td>717410439</td>\n",
       "      <td>Emazing Lights eLite Flow Glow Sticks - Spinni...</td>\n",
       "      <td>Toys</td>\n",
       "      <td>1</td>\n",
       "      <td>1</td>\n",
       "      <td>1</td>\n",
       "      <td>DONT BUY THESE!</td>\n",
       "    </tr>\n",
       "  </tbody>\n",
       "</table>\n",
       "</div>"
      ],
      "text/plain": [
       "  marketplace  customer_id       review_id  product_id  product_parent  \\\n",
       "0          US     18778586   RDIJS7QYB6XNR  B00EDBY7X8       122952789   \n",
       "1          US     24769659  R36ED1U38IELG8  B00D7JFOPC       952062646   \n",
       "2          US     44331596   R1UE3RPRGCOLD  B002LHA74O       818126353   \n",
       "3          US     23310293  R298788GS6I901  B00ARPLCGY       261944918   \n",
       "4          US     38745832    RNX4EXOBBPN5  B00UZOPOFW       717410439   \n",
       "\n",
       "                                       product_title product_category  \\\n",
       "0                         Monopoly Junior Board Game             Toys   \n",
       "1  56 Pieces of Wooden Train Track Compatible wit...             Toys   \n",
       "2         Super Jumbo Playing Cards by S&S Worldwide             Toys   \n",
       "3           Barbie Doll and Fashions Barbie Gift Set             Toys   \n",
       "4  Emazing Lights eLite Flow Glow Sticks - Spinni...             Toys   \n",
       "\n",
       "   star_rating  helpful_votes  total_votes  \\\n",
       "0            5              5            5   \n",
       "1            5              5            5   \n",
       "2            2              2            2   \n",
       "3            5              5            5   \n",
       "4            1              1            1   \n",
       "\n",
       "                                     review_headline  \n",
       "0                                         Five Stars  \n",
       "1              Good quality track at excellent price  \n",
       "2                                          Two Stars  \n",
       "3  my daughter loved it and i liked the price and...  \n",
       "4                                    DONT BUY THESE!  "
      ]
     },
     "execution_count": 15,
     "metadata": {},
     "output_type": "execute_result"
    }
   ],
   "source": [
    "sample_pd = read_tsv_top_pandas('sample_us.tsv')\n",
    "sample_pd.head()"
   ]
  },
  {
   "cell_type": "code",
   "execution_count": 16,
   "metadata": {},
   "outputs": [],
   "source": [
    "import pyarrow\n",
    "sample_pd.to_parquet('df.parquet.gzip', compression='gzip')"
   ]
  },
  {
   "cell_type": "code",
   "execution_count": 17,
   "metadata": {},
   "outputs": [],
   "source": [
    "df_books = read_tsv_to_pyspark_DF(DATA_DIR+'amazon_reviews_us_Books_v1_00.tsv.gz')\n",
    "df_books1 = read_tsv_to_pyspark_DF(DATA_DIR+'amazon_reviews_us_Books_v1_01.tsv.gz')\n",
    "df_books2 = read_tsv_to_pyspark_DF(DATA_DIR+'amazon_reviews_us_Books_v1_02.tsv.gz')"
   ]
  },
  {
   "cell_type": "code",
   "execution_count": 9,
   "metadata": {},
   "outputs": [
    {
     "data": {
      "text/plain": [
       "10319090"
      ]
     },
     "execution_count": 9,
     "metadata": {},
     "output_type": "execute_result"
    }
   ],
   "source": [
    "df_books.count()"
   ]
  },
  {
   "cell_type": "code",
   "execution_count": null,
   "metadata": {},
   "outputs": [],
   "source": [
    "df_books.filter(\"product_category == 'Books'\").count()"
   ]
  },
  {
   "cell_type": "code",
   "execution_count": null,
   "metadata": {},
   "outputs": [],
   "source": []
  },
  {
   "cell_type": "code",
   "execution_count": 35,
   "metadata": {},
   "outputs": [],
   "source": [
    "columns = ['customer_id', 'review_id', 'product_parent',\n",
    "          'product_category', 'star_rating', 'helpful_votes', 'total_votes', 'review_date']\n",
    "df_filtered = df_books.select(columns).dropna()\n",
    "df_filtered1 = df_books.select(columns).dropna()\n",
    "df_filtered2 = df_books.select(columns).dropna()\n",
    "\n",
    "df = df_filtered2.union(df_filtered1.union(df_filtered))"
   ]
  },
  {
   "cell_type": "code",
   "execution_count": 36,
   "metadata": {},
   "outputs": [
    {
     "name": "stdout",
     "output_type": "stream",
     "text": [
      "+-----------+--------------+--------------+----------------+-----------+-------------+-----------+-----------+\n",
      "|customer_id|     review_id|product_parent|product_category|star_rating|helpful_votes|total_votes|review_date|\n",
      "+-----------+--------------+--------------+----------------+-----------+-------------+-----------+-----------+\n",
      "|   25933450| RJOVP071AVAJO|      84656342|           Books|          5|            0|          0| 2015-08-31|\n",
      "|    1801372|R1ORGBETCDW3AI|     729938122|           Books|          5|            0|          0| 2015-08-31|\n",
      "|    5782091| R7TNRFQAOUTX5|     678139048|           Books|          5|            0|          0| 2015-08-31|\n",
      "|   32715830|R2GANXKDIFZ6OI|     712432151|           Books|          5|            0|          0| 2015-08-31|\n",
      "|   14005703|R2NYB6C3R8LVN6|     800572372|           Books|          5|            2|          2| 2015-08-31|\n",
      "|   36205738|R13U5PBJI1H94K|     559876774|           Books|          2|            1|          1| 2015-08-31|\n",
      "|   44121167|R1H8UVH990F8VE|     299984591|           Books|          5|            2|          2| 2015-08-31|\n",
      "|   16519255|R2MC0N30WZMRQ5|     821650353|           Books|          5|            0|          0| 2015-08-31|\n",
      "|   49361350| R2NO2HXK16Y4J|     419457767|           Books|          5|            0|          0| 2015-08-31|\n",
      "|   11423253|R245YIAVJK82ZL|     285887177|           Books|          5|            0|          0| 2015-08-31|\n",
      "+-----------+--------------+--------------+----------------+-----------+-------------+-----------+-----------+\n",
      "only showing top 10 rows\n",
      "\n"
     ]
    }
   ],
   "source": [
    "df.show(10)"
   ]
  },
  {
   "cell_type": "code",
   "execution_count": 37,
   "metadata": {},
   "outputs": [],
   "source": [
    "df.write.parquet('booksall.parquet.gzip', compression='gzip')"
   ]
  },
  {
   "cell_type": "code",
   "execution_count": 27,
   "metadata": {},
   "outputs": [],
   "source": [
    "#df_filtered.write.parquet('books.parquet.gzip', compression='gzip')\n",
    "df_filtered1.write.parquet('books1.parquet.gzip', compression='gzip')\n",
    "df_filtered2.write.parquet('books2.parquet.gzip', compression='gzip')"
   ]
  },
  {
   "cell_type": "code",
   "execution_count": null,
   "metadata": {},
   "outputs": [],
   "source": [
    "books_pd = read_tsv_top_pandas(DATA_DIR+'amazon_reviews_us_Books_v1_00.tsv.gz')"
   ]
  },
  {
   "cell_type": "code",
   "execution_count": null,
   "metadata": {},
   "outputs": [],
   "source": [
    "books_pd.head()"
   ]
  },
  {
   "cell_type": "code",
   "execution_count": null,
   "metadata": {},
   "outputs": [],
   "source": [
    "books_pd.count()"
   ]
  },
  {
   "cell_type": "code",
   "execution_count": 18,
   "metadata": {},
   "outputs": [],
   "source": [
    "reviews_pd = read_tsv_reviews_to_pandas(DATA_DIR+'amazon_reviews_us_Books_v1_00.tsv.gz')"
   ]
  },
  {
   "cell_type": "code",
   "execution_count": 19,
   "metadata": {},
   "outputs": [
    {
     "data": {
      "text/plain": [
       "review_body    10236889\n",
       "dtype: int64"
      ]
     },
     "execution_count": 19,
     "metadata": {},
     "output_type": "execute_result"
    }
   ],
   "source": [
    "reviews_pd.count()"
   ]
  },
  {
   "cell_type": "code",
   "execution_count": 22,
   "metadata": {},
   "outputs": [
    {
     "data": {
      "text/plain": [
       "dtype('O')"
      ]
     },
     "execution_count": 22,
     "metadata": {},
     "output_type": "execute_result"
    }
   ],
   "source": [
    "import pyarrow\n",
    "books_pd.to_parquet('books.parquet.gzip', compression='gzip')"
   ]
  },
  {
   "cell_type": "code",
   "execution_count": 31,
   "metadata": {},
   "outputs": [
    {
     "name": "stderr",
     "output_type": "stream",
     "text": [
      "/home/przemek/anaconda3/envs/ada/lib/python3.6/site-packages/IPython/core/interactiveshell.py:3183: DtypeWarning: Columns (7) have mixed types. Specify dtype option on import or set low_memory=False.\n",
      "  if (yield from self.run_code(code, result)):\n"
     ]
    },
    {
     "data": {
      "text/html": [
       "<div>\n",
       "<style scoped>\n",
       "    .dataframe tbody tr th:only-of-type {\n",
       "        vertical-align: middle;\n",
       "    }\n",
       "\n",
       "    .dataframe tbody tr th {\n",
       "        vertical-align: top;\n",
       "    }\n",
       "\n",
       "    .dataframe thead th {\n",
       "        text-align: right;\n",
       "    }\n",
       "</style>\n",
       "<table border=\"1\" class=\"dataframe\">\n",
       "  <thead>\n",
       "    <tr style=\"text-align: right;\">\n",
       "      <th></th>\n",
       "      <th>marketplace</th>\n",
       "      <th>customer_id</th>\n",
       "      <th>review_id</th>\n",
       "      <th>product_id</th>\n",
       "      <th>product_parent</th>\n",
       "      <th>product_title</th>\n",
       "      <th>product_category</th>\n",
       "      <th>star_rating</th>\n",
       "      <th>helpful_votes</th>\n",
       "      <th>total_votes</th>\n",
       "      <th>review_headline</th>\n",
       "    </tr>\n",
       "  </thead>\n",
       "  <tbody>\n",
       "    <tr>\n",
       "      <th>0</th>\n",
       "      <td>US</td>\n",
       "      <td>9970739</td>\n",
       "      <td>R8EWA1OFT84NX</td>\n",
       "      <td>B00GSP5D94</td>\n",
       "      <td>329991347</td>\n",
       "      <td>Summer Infant SwaddleMe Adjustable Infant Wrap...</td>\n",
       "      <td>Baby</td>\n",
       "      <td>5.0</td>\n",
       "      <td>5.0</td>\n",
       "      <td>5.0</td>\n",
       "      <td>Great swaddled blankets</td>\n",
       "    </tr>\n",
       "    <tr>\n",
       "      <th>1</th>\n",
       "      <td>US</td>\n",
       "      <td>23538442</td>\n",
       "      <td>R2JWY4YRQD4FOP</td>\n",
       "      <td>B00YYDDZGU</td>\n",
       "      <td>646108902</td>\n",
       "      <td>Pacifier Clip Girl (3 Pack) Ziggy Baby 2-Sided...</td>\n",
       "      <td>Baby</td>\n",
       "      <td>5.0</td>\n",
       "      <td>5.0</td>\n",
       "      <td>5.0</td>\n",
       "      <td>Too cute and really nice</td>\n",
       "    </tr>\n",
       "    <tr>\n",
       "      <th>2</th>\n",
       "      <td>US</td>\n",
       "      <td>8273344</td>\n",
       "      <td>RL5ESX231LZ0B</td>\n",
       "      <td>B00BUBNZC8</td>\n",
       "      <td>642922361</td>\n",
       "      <td>Udder Covers - Breast Feeding Nursing Cover</td>\n",
       "      <td>Baby</td>\n",
       "      <td>5.0</td>\n",
       "      <td>5.0</td>\n",
       "      <td>5.0</td>\n",
       "      <td>Five Stars</td>\n",
       "    </tr>\n",
       "    <tr>\n",
       "      <th>3</th>\n",
       "      <td>US</td>\n",
       "      <td>24557753</td>\n",
       "      <td>RRMS9ZWJ2KD08</td>\n",
       "      <td>B00AWLZFTS</td>\n",
       "      <td>494272733</td>\n",
       "      <td>Gerber Graduates Fun Pack Utensils</td>\n",
       "      <td>Baby</td>\n",
       "      <td>5.0</td>\n",
       "      <td>5.0</td>\n",
       "      <td>5.0</td>\n",
       "      <td>Cute; wash up nicely in dishwasher.</td>\n",
       "    </tr>\n",
       "    <tr>\n",
       "      <th>4</th>\n",
       "      <td>US</td>\n",
       "      <td>46263340</td>\n",
       "      <td>R14I3ZG5E6S7YM</td>\n",
       "      <td>B00KM60D3Q</td>\n",
       "      <td>305813185</td>\n",
       "      <td>Summer Infant Ultra Sight Pan/Scan/Zoom Video ...</td>\n",
       "      <td>Baby</td>\n",
       "      <td>5.0</td>\n",
       "      <td>5.0</td>\n",
       "      <td>5.0</td>\n",
       "      <td>Love it!</td>\n",
       "    </tr>\n",
       "  </tbody>\n",
       "</table>\n",
       "</div>"
      ],
      "text/plain": [
       "  marketplace  customer_id       review_id  product_id  product_parent  \\\n",
       "0          US      9970739   R8EWA1OFT84NX  B00GSP5D94       329991347   \n",
       "1          US     23538442  R2JWY4YRQD4FOP  B00YYDDZGU       646108902   \n",
       "2          US      8273344   RL5ESX231LZ0B  B00BUBNZC8       642922361   \n",
       "3          US     24557753   RRMS9ZWJ2KD08  B00AWLZFTS       494272733   \n",
       "4          US     46263340  R14I3ZG5E6S7YM  B00KM60D3Q       305813185   \n",
       "\n",
       "                                       product_title product_category  \\\n",
       "0  Summer Infant SwaddleMe Adjustable Infant Wrap...             Baby   \n",
       "1  Pacifier Clip Girl (3 Pack) Ziggy Baby 2-Sided...             Baby   \n",
       "2        Udder Covers - Breast Feeding Nursing Cover             Baby   \n",
       "3                 Gerber Graduates Fun Pack Utensils             Baby   \n",
       "4  Summer Infant Ultra Sight Pan/Scan/Zoom Video ...             Baby   \n",
       "\n",
       "   star_rating  helpful_votes  total_votes  \\\n",
       "0          5.0            5.0          5.0   \n",
       "1          5.0            5.0          5.0   \n",
       "2          5.0            5.0          5.0   \n",
       "3          5.0            5.0          5.0   \n",
       "4          5.0            5.0          5.0   \n",
       "\n",
       "                       review_headline  \n",
       "0              Great swaddled blankets  \n",
       "1             Too cute and really nice  \n",
       "2                           Five Stars  \n",
       "3  Cute; wash up nicely in dishwasher.  \n",
       "4                             Love it!  "
      ]
     },
     "execution_count": 31,
     "metadata": {},
     "output_type": "execute_result"
    }
   ],
   "source": [
    "babys_pd = read_tsv_top_pandas(DATA_DIR+'amazon_reviews_us_Baby_v1_00.tsv.gz')\n",
    "babys_pd.head()"
   ]
  },
  {
   "cell_type": "code",
   "execution_count": 4,
   "metadata": {},
   "outputs": [
    {
     "ename": "NameError",
     "evalue": "name 'babys_pd' is not defined",
     "output_type": "error",
     "traceback": [
      "\u001b[0;31m---------------------------------------------------------------------------\u001b[0m",
      "\u001b[0;31mNameError\u001b[0m                                 Traceback (most recent call last)",
      "\u001b[0;32m<ipython-input-4-15c93c3a9585>\u001b[0m in \u001b[0;36m<module>\u001b[0;34m\u001b[0m\n\u001b[1;32m      1\u001b[0m \u001b[0;32mimport\u001b[0m \u001b[0mpyarrow\u001b[0m\u001b[0;34m\u001b[0m\u001b[0m\n\u001b[0;32m----> 2\u001b[0;31m \u001b[0mbabys_pd\u001b[0m\u001b[0;34m.\u001b[0m\u001b[0mto_parquet\u001b[0m\u001b[0;34m(\u001b[0m\u001b[0;34m'babys.parquet.gzip'\u001b[0m\u001b[0;34m,\u001b[0m \u001b[0mcompression\u001b[0m\u001b[0;34m=\u001b[0m\u001b[0;34m'gzip'\u001b[0m\u001b[0;34m)\u001b[0m\u001b[0;34m\u001b[0m\u001b[0m\n\u001b[0m",
      "\u001b[0;31mNameError\u001b[0m: name 'babys_pd' is not defined"
     ]
    }
   ],
   "source": [
    "import pyarrow\n",
    "babys_pd.to_parquet('babys.parquet.gzip', compression='gzip')"
   ]
  },
  {
   "cell_type": "code",
   "execution_count": 29,
   "metadata": {},
   "outputs": [],
   "source": [
    "books_pd_read = pd.read_parquet('books.parquet.gzip')"
   ]
  },
  {
   "cell_type": "code",
   "execution_count": 30,
   "metadata": {},
   "outputs": [
    {
     "data": {
      "text/html": [
       "<div>\n",
       "<style scoped>\n",
       "    .dataframe tbody tr th:only-of-type {\n",
       "        vertical-align: middle;\n",
       "    }\n",
       "\n",
       "    .dataframe tbody tr th {\n",
       "        vertical-align: top;\n",
       "    }\n",
       "\n",
       "    .dataframe thead th {\n",
       "        text-align: right;\n",
       "    }\n",
       "</style>\n",
       "<table border=\"1\" class=\"dataframe\">\n",
       "  <thead>\n",
       "    <tr style=\"text-align: right;\">\n",
       "      <th></th>\n",
       "      <th>customer_id</th>\n",
       "      <th>review_id</th>\n",
       "      <th>product_parent</th>\n",
       "      <th>product_category</th>\n",
       "      <th>star_rating</th>\n",
       "      <th>helpful_votes</th>\n",
       "      <th>total_votes</th>\n",
       "      <th>review_date</th>\n",
       "    </tr>\n",
       "  </thead>\n",
       "  <tbody>\n",
       "    <tr>\n",
       "      <th>0</th>\n",
       "      <td>25933450</td>\n",
       "      <td>RJOVP071AVAJO</td>\n",
       "      <td>84656342</td>\n",
       "      <td>Books</td>\n",
       "      <td>5</td>\n",
       "      <td>0</td>\n",
       "      <td>0</td>\n",
       "      <td>2015-08-31</td>\n",
       "    </tr>\n",
       "    <tr>\n",
       "      <th>1</th>\n",
       "      <td>1801372</td>\n",
       "      <td>R1ORGBETCDW3AI</td>\n",
       "      <td>729938122</td>\n",
       "      <td>Books</td>\n",
       "      <td>5</td>\n",
       "      <td>0</td>\n",
       "      <td>0</td>\n",
       "      <td>2015-08-31</td>\n",
       "    </tr>\n",
       "    <tr>\n",
       "      <th>2</th>\n",
       "      <td>5782091</td>\n",
       "      <td>R7TNRFQAOUTX5</td>\n",
       "      <td>678139048</td>\n",
       "      <td>Books</td>\n",
       "      <td>5</td>\n",
       "      <td>0</td>\n",
       "      <td>0</td>\n",
       "      <td>2015-08-31</td>\n",
       "    </tr>\n",
       "    <tr>\n",
       "      <th>3</th>\n",
       "      <td>32715830</td>\n",
       "      <td>R2GANXKDIFZ6OI</td>\n",
       "      <td>712432151</td>\n",
       "      <td>Books</td>\n",
       "      <td>5</td>\n",
       "      <td>0</td>\n",
       "      <td>0</td>\n",
       "      <td>2015-08-31</td>\n",
       "    </tr>\n",
       "    <tr>\n",
       "      <th>4</th>\n",
       "      <td>14005703</td>\n",
       "      <td>R2NYB6C3R8LVN6</td>\n",
       "      <td>800572372</td>\n",
       "      <td>Books</td>\n",
       "      <td>5</td>\n",
       "      <td>2</td>\n",
       "      <td>2</td>\n",
       "      <td>2015-08-31</td>\n",
       "    </tr>\n",
       "  </tbody>\n",
       "</table>\n",
       "</div>"
      ],
      "text/plain": [
       "   customer_id       review_id  product_parent product_category  star_rating  \\\n",
       "0     25933450   RJOVP071AVAJO        84656342            Books            5   \n",
       "1      1801372  R1ORGBETCDW3AI       729938122            Books            5   \n",
       "2      5782091   R7TNRFQAOUTX5       678139048            Books            5   \n",
       "3     32715830  R2GANXKDIFZ6OI       712432151            Books            5   \n",
       "4     14005703  R2NYB6C3R8LVN6       800572372            Books            5   \n",
       "\n",
       "   helpful_votes  total_votes review_date  \n",
       "0              0            0  2015-08-31  \n",
       "1              0            0  2015-08-31  \n",
       "2              0            0  2015-08-31  \n",
       "3              0            0  2015-08-31  \n",
       "4              2            2  2015-08-31  "
      ]
     },
     "execution_count": 30,
     "metadata": {},
     "output_type": "execute_result"
    }
   ],
   "source": [
    "books_pd_read.head()"
   ]
  },
  {
   "cell_type": "code",
   "execution_count": 31,
   "metadata": {},
   "outputs": [
    {
     "data": {
      "text/plain": [
       "customer_id                  int32\n",
       "review_id                   object\n",
       "product_parent               int32\n",
       "product_category            object\n",
       "star_rating                  int32\n",
       "helpful_votes                int32\n",
       "total_votes                  int32\n",
       "review_date         datetime64[ns]\n",
       "dtype: object"
      ]
     },
     "execution_count": 31,
     "metadata": {},
     "output_type": "execute_result"
    }
   ],
   "source": [
    "books_pd_read.dtypes"
   ]
  },
  {
   "cell_type": "code",
   "execution_count": 28,
   "metadata": {},
   "outputs": [],
   "source": [
    "del(books_pd_read)"
   ]
  },
  {
   "cell_type": "code",
   "execution_count": 32,
   "metadata": {},
   "outputs": [],
   "source": [
    "books_pd_read1 = pd.read_parquet('books1.parquet.gzip')"
   ]
  },
  {
   "cell_type": "code",
   "execution_count": 5,
   "metadata": {},
   "outputs": [],
   "source": [
    "del(books_pd_read1)"
   ]
  },
  {
   "cell_type": "code",
   "execution_count": 33,
   "metadata": {},
   "outputs": [],
   "source": [
    "books_pd_read2 = pd.read_parquet('books2.parquet.gzip')"
   ]
  },
  {
   "cell_type": "code",
   "execution_count": 34,
   "metadata": {},
   "outputs": [
    {
     "data": {
      "text/plain": [
       "customer_id         10316802\n",
       "review_id           10316802\n",
       "product_parent      10316802\n",
       "product_category    10316802\n",
       "star_rating         10316802\n",
       "helpful_votes       10316802\n",
       "total_votes         10316802\n",
       "review_date         10316802\n",
       "dtype: int64"
      ]
     },
     "execution_count": 34,
     "metadata": {},
     "output_type": "execute_result"
    }
   ],
   "source": [
    "books_pd_read2.count()"
   ]
  },
  {
   "cell_type": "code",
   "execution_count": 8,
   "metadata": {},
   "outputs": [],
   "source": [
    "books_pd_read2.index = books_pd_read2['product_id']"
   ]
  },
  {
   "cell_type": "code",
   "execution_count": 9,
   "metadata": {},
   "outputs": [
    {
     "data": {
      "text/plain": [
       "False"
      ]
     },
     "execution_count": 9,
     "metadata": {},
     "output_type": "execute_result"
    }
   ],
   "source": [
    "books_pd_read2.index.is_unique"
   ]
  },
  {
   "cell_type": "code",
   "execution_count": 5,
   "metadata": {},
   "outputs": [],
   "source": [
    "books_all = pd.read_parquet('booksall.parquet.gzip')"
   ]
  },
  {
   "cell_type": "code",
   "execution_count": 6,
   "metadata": {},
   "outputs": [
    {
     "data": {
      "text/plain": [
       "customer_id         30950406\n",
       "review_id           30950406\n",
       "product_parent      30950406\n",
       "product_category    30950406\n",
       "star_rating         30950406\n",
       "helpful_votes       30950406\n",
       "total_votes         30950406\n",
       "review_date         30950406\n",
       "dtype: int64"
      ]
     },
     "execution_count": 6,
     "metadata": {},
     "output_type": "execute_result"
    }
   ],
   "source": [
    "books_all.count()"
   ]
  },
  {
   "cell_type": "code",
   "execution_count": null,
   "metadata": {},
   "outputs": [],
   "source": []
  }
 ],
 "metadata": {
  "kernelspec": {
   "display_name": "Python [conda env:ada]",
   "language": "python",
   "name": "conda-env-ada-py"
  },
  "language_info": {
   "codemirror_mode": {
    "name": "ipython",
    "version": 3
   },
   "file_extension": ".py",
   "mimetype": "text/x-python",
   "name": "python",
   "nbconvert_exporter": "python",
   "pygments_lexer": "ipython3",
   "version": "3.6.6"
  }
 },
 "nbformat": 4,
 "nbformat_minor": 2
}
